{
 "cells": [
  {
   "cell_type": "markdown",
   "metadata": {},
   "source": [
    "## Tensor - Lite"
   ]
  },
  {
   "cell_type": "markdown",
   "metadata": {},
   "source": [
    "Welcome, to tensorlite . This project is made to make tensorflow simple. Here , we will be discussing about the different aspects of tensorflow. This project can be considered as a subset of tensorflow , to help everyone understand tensorflow and its concepts . "
   ]
  },
  {
   "cell_type": "markdown",
   "metadata": {},
   "source": [
    "We have some basic concepts in Tensorflow. \n",
    "\n",
    "1) Tensors - N-Dimentional Array, much like the ndArray of numpy\n",
    "\n",
    "2) Operation - Any operation that is to be performed i.e. addition , multiplication, matrix-mltiplication\n",
    "\n",
    "3) Graph - A global variable , which connects all these variables and placeholders in to a specific operation.\n",
    "\n",
    "4) Variables - A variable or a changeble parameter of a graph. For example, weights of a neural network.\n",
    "\n",
    "5) Placeholders - a placeholder for any unknown value. It can be also thought of as an empty node , which needs a value to compute output."
   ]
  },
  {
   "cell_type": "markdown",
   "metadata": {},
   "source": [
    "so, lets start by making a graph."
   ]
  },
  {
   "cell_type": "code",
   "execution_count": 9,
   "metadata": {},
   "outputs": [],
   "source": [
    "class Graph():\n",
    "    \n",
    "    def __init__(self):\n",
    "        \n",
    "        self.operations = []\n",
    "        self.placeholders = []\n",
    "        self.variables = []\n",
    "        \n",
    "    def set_as_default(self):\n",
    "        global _default_graph\n",
    "        _default_graph = self"
   ]
  },
  {
   "cell_type": "markdown",
   "metadata": {},
   "source": [
    "What we did, here , is that we constructed a graph class , which is nothing but a global variable which will connect all the variables , placeholders and operations together. Also, since we will be having multiple graphs , we will need to know , which operations and variables belong to which graph. Thus, we made a method named set_as_default, which makes a *_default_graph* global variable, and sets it to the reference of the graph."
   ]
  },
  {
   "cell_type": "markdown",
   "metadata": {},
   "source": [
    "for example,\n",
    "if \n",
    "\n",
    "y = Mx + C ( which is standard equation of a straight line ) , we can classify this.\n",
    "\n",
    "M = Variable & C = Variable\n",
    "x = Placeholder\n",
    "\n",
    "M(x) = Multiplication of M with x = Multiplication Operation\n",
    "M(x) + c = Addition of M(x) with C = Addition Operation\n",
    "\n",
    "now , why are M and C called variables , is because , these are the values that are being calculated. For example, in a simple regression problem, __y__ is the dependent variable which we have to predict. __x__ is the indepent variable or features, based on which the values of __y__ will be predicted. This is why __x__ is a placeholder since , we will feed the equation with __x__ to give the result. But , since M and C are to be calculated i.e. slope and intercept every time the the equation has to give a result, we define them as a variable.\n",
    "\n",
    "In the case of a neural network, the weights of a neural network are the variables since , after each iteration the weight changes .\n",
    "\n",
    "Now, all these things happen differently , thus we need some sort of a pipeline to connect all these things into one equation , thus we need a graph."
   ]
  },
  {
   "cell_type": "code",
   "execution_count": 10,
   "metadata": {},
   "outputs": [],
   "source": [
    "class Placeholder():\n",
    "    \n",
    "    def __init__(self):\n",
    "        \n",
    "        self.output_nodes = []\n",
    "        \n",
    "        #append the instance of the placeholder, to a global variable (graph) to be later get connected to a final operation\n",
    "        _default_graph.placeholders.append(self)"
   ]
  },
  {
   "cell_type": "code",
   "execution_count": 11,
   "metadata": {},
   "outputs": [],
   "source": [
    "class Variable():\n",
    "    \n",
    "    def __init__(self, initial_values=None): # we are having some initial values, such as random weights for a neural network\n",
    "        \n",
    "        self.values = initial_values\n",
    "        self.output_nodes = []\n",
    "        \n",
    "        #append the instance of the Variable, to a global variable (graph) to be later get connected to a final operation\n",
    "        _default_graph.variables.append(self)"
   ]
  },
  {
   "cell_type": "markdown",
   "metadata": {},
   "source": [
    "---\n",
    "\n",
    "Now comes the operation class , which is nothing but basic simple mathematical operations. Basically , an operation is based on 4 things - \n",
    "\n",
    "1) Input Nodes - The inputs passed onto the operation\n",
    "\n",
    "2) Output Nodes - The ouput of the operation\n",
    "\n",
    "3) Graph - A global variable , since it will be connecting the operations to other aspects of the equation (Placeholders and Variables)\n",
    "\n",
    "4) Compute Method - Whihc will actually perform the mathematical calculation"
   ]
  },
  {
   "cell_type": "code",
   "execution_count": 12,
   "metadata": {},
   "outputs": [],
   "source": [
    "class Operation():\n",
    "    \n",
    "    def __init__(self, input_nodes = []):\n",
    "        \n",
    "        self.input_nodes = input_nodes\n",
    "        self.output_nodes = []\n",
    "        \n",
    "        for node in input_nodes:\n",
    "            # for each node in input node, assign itself to the correct output node.\n",
    "            node.output_nodes.append(self) \n",
    "            \n",
    "    def compute(self):\n",
    "        pass"
   ]
  },
  {
   "cell_type": "code",
   "execution_count": 13,
   "metadata": {},
   "outputs": [],
   "source": [
    "class add(Operation):\n",
    "    \n",
    "    def __init__(self, x, y):\n",
    "        # we initialize the Main Operation class by the calling the Operation method and then by passing the list of input nodes\n",
    "        # x and y\n",
    "        super().__init__([x,y])\n",
    "        \n",
    "    def compute(self, x_variable, y_variable):\n",
    "        self.inputs = [x_variable, y_variable]\n",
    "        \n",
    "        return x_variable + y_variable"
   ]
  },
  {
   "cell_type": "code",
   "execution_count": 14,
   "metadata": {},
   "outputs": [],
   "source": [
    "class multiply(Operation):\n",
    "    \n",
    "    def __init__(self, x, y):\n",
    "        # we initialize the Main Operation class by the calling the Operation method and then by passing the list of input nodes\n",
    "        # x and y\n",
    "        super().__init__([x,y])\n",
    "        \n",
    "    def compute(self, x_variable, y_variable):\n",
    "        self.inputs = [x_variable, y_variable]\n",
    "        \n",
    "        return x_variable * y_variable"
   ]
  },
  {
   "cell_type": "code",
   "execution_count": 15,
   "metadata": {},
   "outputs": [],
   "source": [
    "class matmul(Operation):\n",
    "    \n",
    "    def __init__(self, x, y):\n",
    "        # we initialize the Main Operation class by the calling the Operation method and then by passing the list of input nodes\n",
    "        # x and y\n",
    "        super().__init__([x,y])\n",
    "        \n",
    "    def compute(self, x_variable, y_variable):\n",
    "        self.inputs = [x_variable, y_variable]\n",
    "        \n",
    "        return x_variable.dot(y_variable)"
   ]
  },
  {
   "cell_type": "code",
   "execution_count": null,
   "metadata": {},
   "outputs": [],
   "source": []
  }
 ],
 "metadata": {
  "kernelspec": {
   "display_name": "Python 3",
   "language": "python",
   "name": "python3"
  },
  "language_info": {
   "codemirror_mode": {
    "name": "ipython",
    "version": 3
   },
   "file_extension": ".py",
   "mimetype": "text/x-python",
   "name": "python",
   "nbconvert_exporter": "python",
   "pygments_lexer": "ipython3",
   "version": "3.6.5"
  }
 },
 "nbformat": 4,
 "nbformat_minor": 2
}
