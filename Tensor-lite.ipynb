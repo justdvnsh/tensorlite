{
 "cells": [
  {
   "cell_type": "markdown",
   "metadata": {},
   "source": [
    "## Tensor - Lite"
   ]
  },
  {
   "cell_type": "markdown",
   "metadata": {},
   "source": [
    "Welcome, to tensorlite . This project is made to make tensorflow simple. Here , we will be discussing about the different aspects of tensorflow. This project can be considered as a subset of tensorflow , to help everyone understand tensorflow and its concepts . "
   ]
  },
  {
   "cell_type": "markdown",
   "metadata": {},
   "source": [
    "We have some basic concepts in Tensorflow. \n",
    "\n",
    "1) Tensors - N-Dimentional Array, much like the ndArray of numpy\n",
    "\n",
    "2) Operation - Any operation that is to be performed i.e. addition , multiplication, matrix-mltiplication\n",
    "\n",
    "3) Graph - A global variable , which connects all these variables and placeholders in to a specific operation.\n",
    "\n",
    "4) Variables - A variable or a changeble parameter of a graph. For example, weights of a neural network.\n",
    "\n",
    "5) Placeholders - a placeholder for any unknown value. It can be also thought of as an empty node , which needs a value to compute output."
   ]
  },
  {
   "cell_type": "markdown",
   "metadata": {},
   "source": [
    "so, lets start by making a graph."
   ]
  },
  {
   "cell_type": "code",
   "execution_count": 1,
   "metadata": {},
   "outputs": [],
   "source": [
    "import numpy as np"
   ]
  },
  {
   "cell_type": "code",
   "execution_count": 2,
   "metadata": {},
   "outputs": [],
   "source": [
    "class Graph():\n",
    "    \n",
    "    def __init__(self):\n",
    "        \n",
    "        self.operations = []\n",
    "        self.placeholders = []\n",
    "        self.variables = []\n",
    "        \n",
    "    def set_as_default(self):\n",
    "        global _default_graph\n",
    "        _default_graph = self"
   ]
  },
  {
   "cell_type": "markdown",
   "metadata": {},
   "source": [
    "What we did, here , is that we constructed a graph class , which is nothing but a global variable which will connect all the variables , placeholders and operations together. Also, since we will be having multiple graphs , we will need to know , which operations and variables belong to which graph. Thus, we made a method named set_as_default, which makes a *_default_graph* global variable, and sets it to the reference of the graph."
   ]
  },
  {
   "cell_type": "markdown",
   "metadata": {},
   "source": [
    "for example,\n",
    "if \n",
    "\n",
    "y = Mx + C ( which is standard equation of a straight line ) , we can classify this.\n",
    "\n",
    "M = Variable & C = Variable\n",
    "x = Placeholder\n",
    "\n",
    "M(x) = Multiplication of M with x = Multiplication Operation\n",
    "M(x) + c = Addition of M(x) with C = Addition Operation\n",
    "\n",
    "now , why are M and C called variables , is because , these are the values that are being calculated. For example, in a simple regression problem, __y__ is the dependent variable which we have to predict. __x__ is the indepent variable or features, based on which the values of __y__ will be predicted. This is why __x__ is a placeholder since , we will feed the equation with __x__ to give the result. But , since M and C are to be calculated i.e. slope and intercept every time the the equation has to give a result, we define them as a variable.\n",
    "\n",
    "In the case of a neural network, the weights of a neural network are the variables since , after each iteration the weight changes .\n",
    "\n",
    "Now, all these things happen differently , thus we need some sort of a pipeline to connect all these things into one equation , thus we need a graph."
   ]
  },
  {
   "cell_type": "code",
   "execution_count": 3,
   "metadata": {},
   "outputs": [],
   "source": [
    "class Placeholder():\n",
    "    \n",
    "    def __init__(self):\n",
    "        \n",
    "        self.output_nodes = []\n",
    "        \n",
    "        #append the instance of the placeholder, to a global variable (graph) to be later get connected to a final operation\n",
    "        _default_graph.placeholders.append(self)"
   ]
  },
  {
   "cell_type": "code",
   "execution_count": 4,
   "metadata": {},
   "outputs": [],
   "source": [
    "class Variable():\n",
    "    \n",
    "    def __init__(self, initial_values=None): # we are having some initial values, such as random weights for a neural network\n",
    "        \n",
    "        self.values = initial_values\n",
    "        self.output_nodes = []\n",
    "        \n",
    "        #append the instance of the Variable, to a global variable (graph) to be later get connected to a final operation\n",
    "        _default_graph.variables.append(self)"
   ]
  },
  {
   "cell_type": "markdown",
   "metadata": {},
   "source": [
    "---\n",
    "\n",
    "Now comes the operation class , which is nothing but basic simple mathematical operations. Basically , an operation is based on 4 things - \n",
    "\n",
    "1) Input Nodes - The inputs passed onto the operation\n",
    "\n",
    "2) Output Nodes - The ouput of the operation\n",
    "\n",
    "3) Graph - A global variable , since it will be connecting the operations to other aspects of the equation (Placeholders and Variables)\n",
    "\n",
    "4) Compute Method - Whihc will actually perform the mathematical calculation"
   ]
  },
  {
   "cell_type": "code",
   "execution_count": 5,
   "metadata": {},
   "outputs": [],
   "source": [
    "class Operation():\n",
    "    \n",
    "    def __init__(self, input_nodes = []):\n",
    "        \n",
    "        self.input_nodes = input_nodes\n",
    "        self.output_nodes = []\n",
    "        \n",
    "        for node in input_nodes:\n",
    "            # for each node in input node, assign itself to the correct output node.\n",
    "            node.output_nodes.append(self) \n",
    "                      \n",
    "    def compute(self):\n",
    "        pass"
   ]
  },
  {
   "cell_type": "code",
   "execution_count": 6,
   "metadata": {},
   "outputs": [],
   "source": [
    "class add(Operation):\n",
    "    \n",
    "    def __init__(self, x, y):\n",
    "        # we initialize the Main Operation class by the calling the Operation method and then by passing the list of input nodes\n",
    "        # x and y\n",
    "        super().__init__([x,y])\n",
    "        \n",
    "    def compute(self, x_variable, y_variable):\n",
    "        self.inputs = [x_variable, y_variable]\n",
    "        \n",
    "        return x_variable + y_variable"
   ]
  },
  {
   "cell_type": "code",
   "execution_count": 7,
   "metadata": {},
   "outputs": [],
   "source": [
    "class multiply(Operation):\n",
    "    \n",
    "    def __init__(self, x, y):\n",
    "        # we initialize the Main Operation class by the calling the Operation method and then by passing the list of input nodes\n",
    "        # x and y\n",
    "        super().__init__([x,y])\n",
    "        \n",
    "    def compute(self, x_variable, y_variable):\n",
    "        self.inputs = [x_variable, y_variable]\n",
    "        \n",
    "        return x_variable * y_variable"
   ]
  },
  {
   "cell_type": "code",
   "execution_count": 8,
   "metadata": {},
   "outputs": [],
   "source": [
    "class matmul(Operation):\n",
    "    \n",
    "    def __init__(self, x, y):\n",
    "        # we initialize the Main Operation class by the calling the Operation method and then by passing the list of input nodes\n",
    "        # x and y\n",
    "        super().__init__([x,y])\n",
    "        \n",
    "    def compute(self, x_variable, y_variable):\n",
    "        self.inputs = [x_variable, y_variable]\n",
    "        \n",
    "        return x_variable.dot(y_variable)"
   ]
  },
  {
   "cell_type": "markdown",
   "metadata": {},
   "source": [
    "Now for the equation , we know which element corresponds to what in our version of tensorflow, so what we can do is try to write the equation , based on what we kwow.So,\n",
    "\n",
    "y = M(x) + C\n",
    "\n",
    "=> let us assume M = 10 and C = 4\n",
    "\n",
    "=> y = 10x + 4 , where 10 & 4 are variables and __x__ is a placeholder.\n"
   ]
  },
  {
   "cell_type": "code",
   "execution_count": 9,
   "metadata": {},
   "outputs": [],
   "source": [
    "g = Graph()"
   ]
  },
  {
   "cell_type": "code",
   "execution_count": 10,
   "metadata": {},
   "outputs": [],
   "source": [
    "g.set_as_default()\n",
    "# we make this graph default for this particular set of operations."
   ]
  },
  {
   "cell_type": "code",
   "execution_count": 11,
   "metadata": {},
   "outputs": [],
   "source": [
    "M = Variable(10)\n",
    "C = Variable(4)"
   ]
  },
  {
   "cell_type": "code",
   "execution_count": 12,
   "metadata": {},
   "outputs": [],
   "source": [
    "x = Placeholder()"
   ]
  },
  {
   "cell_type": "code",
   "execution_count": 13,
   "metadata": {},
   "outputs": [],
   "source": [
    "z = multiply(M, x)"
   ]
  },
  {
   "cell_type": "code",
   "execution_count": 14,
   "metadata": {},
   "outputs": [],
   "source": [
    "y = add(z, C)"
   ]
  },
  {
   "cell_type": "code",
   "execution_count": 15,
   "metadata": {},
   "outputs": [
    {
     "data": {
      "text/plain": [
       "<__main__.add at 0x1e79f8ef048>"
      ]
     },
     "execution_count": 15,
     "metadata": {},
     "output_type": "execute_result"
    }
   ],
   "source": [
    "y"
   ]
  },
  {
   "cell_type": "code",
   "execution_count": 16,
   "metadata": {},
   "outputs": [
    {
     "name": "stdout",
     "output_type": "stream",
     "text": [
      "<__main__.add object at 0x000001E79F8EF048>\n"
     ]
    }
   ],
   "source": [
    "print(y)"
   ]
  },
  {
   "cell_type": "markdown",
   "metadata": {},
   "source": [
    "As you can see nothing happened , even though we in the class method , we reutrned the sum of the two input variables , this is becuase , we havent feeded any data into the placeholder. Also, we need to have a __session__ class , which can be thought of as the main environment, local to which everythig works, even the graph, because , a graph is a global variable in context to a session."
   ]
  },
  {
   "cell_type": "markdown",
   "metadata": {},
   "source": [
    "Now for a session , we first need to have a function, to make sure that , we execute the computations in the correct order to maintain the legacy of the equation. For example in our equation ( y = mx + c ), we need to first multiply the m with x and then add c , otherwise , the equation will not produce the expected result."
   ]
  },
  {
   "cell_type": "markdown",
   "metadata": {},
   "source": [
    "So, we are going to tackle the problem using the PostOrder Tree Traversel method. It is a core computer science concept , about which you can read here https://www.geeksforgeeks.org/tree-traversals-inorder-preorder-and-postorder/"
   ]
  },
  {
   "cell_type": "code",
   "execution_count": 17,
   "metadata": {},
   "outputs": [],
   "source": [
    "def traverse_postorder(operation):\n",
    "    ## operation argument is the argument for the function, and not the Operation\n",
    "    ## class . Just to be clear.\n",
    "    \n",
    "    nodes_postorder = []\n",
    "    def recurse(node):\n",
    "        if isinstance(node, Operation):\n",
    "            for input_node in node.input_nodes:\n",
    "                recurse(input_node)\n",
    "        nodes_postorder.append(node)\n",
    "        \n",
    "    recurse(operation)\n",
    "    return nodes_postorder"
   ]
  },
  {
   "cell_type": "markdown",
   "metadata": {},
   "source": [
    "So we have made a recursive function, which basically first checks , that the current operation is an instance of the main __Operation__ class. If that is the case, we will use use the recursive function strategy , to execute the operations in correct order. It will form a list of operations , in order they need to be executed."
   ]
  },
  {
   "cell_type": "markdown",
   "metadata": {},
   "source": [
    "Now , we will make a session class, which will actually set the environment to execute the the equation."
   ]
  },
  {
   "cell_type": "code",
   "execution_count": 18,
   "metadata": {},
   "outputs": [],
   "source": [
    "class Session():\n",
    "    \n",
    "    def run(self, operation, feed_dict={}):\n",
    "        \n",
    "        nodes_postorder = traverse_postorder(operation)\n",
    "        \n",
    "        for node in nodes_postorder:\n",
    "            \n",
    "            if type(node) == Placeholder:\n",
    "                \n",
    "                node.output = feed_dict[node]\n",
    "                \n",
    "            elif type(node) == Variable:\n",
    "                \n",
    "                node.output = node.values\n",
    "                \n",
    "            else:\n",
    "                \n",
    "                #Operations\n",
    "                node.inputs = [input_node.output for input_node in node.input_nodes]\n",
    "                \n",
    "                node.output = node.compute(*node.inputs)\n",
    "                \n",
    "            if type(node.output) == list:\n",
    "                node.output = np.array(node.output)\n",
    "                \n",
    "        return operation.output"
   ]
  },
  {
   "cell_type": "markdown",
   "metadata": {},
   "source": [
    "So, we created a session class, and as evident it is just setting up the context for execution of the equation. First it corrects the order of the equation. Then, for each node in the sorted list , we check the type of each node , and perform respective operation to it."
   ]
  },
  {
   "cell_type": "markdown",
   "metadata": {},
   "source": [
    "so starting out , where we left off . \n",
    "\n",
    "we made the operation for __y__, now we will calculate the final value."
   ]
  },
  {
   "cell_type": "code",
   "execution_count": 19,
   "metadata": {},
   "outputs": [],
   "source": [
    "sess = Session()"
   ]
  },
  {
   "cell_type": "code",
   "execution_count": 20,
   "metadata": {},
   "outputs": [],
   "source": [
    "result = sess.run(operation = y, feed_dict={x:10})"
   ]
  },
  {
   "cell_type": "code",
   "execution_count": 21,
   "metadata": {},
   "outputs": [
    {
     "data": {
      "text/plain": [
       "104"
      ]
     },
     "execution_count": 21,
     "metadata": {},
     "output_type": "execute_result"
    }
   ],
   "source": [
    "result"
   ]
  },
  {
   "cell_type": "markdown",
   "metadata": {},
   "source": [
    "Now this makes sense. Since the equation was __y = mx + c__, where, M and C were , 10 and 4 respectively. Now we passed on x = 10 , in the feed_dict argument above. Thus , the equation will correspond to , __y = 10x(10) + 4__, which is __104__"
   ]
  },
  {
   "cell_type": "markdown",
   "metadata": {},
   "source": [
    "Since, we pass in many batches of data or features to the placeholder in the real world, we need to use a dictionary , which will map each placeholder to a value. "
   ]
  },
  {
   "cell_type": "code",
   "execution_count": 22,
   "metadata": {},
   "outputs": [],
   "source": [
    "## lets make a complete equation. \n",
    "g = Graph()\n",
    "g.set_as_default()\n",
    "## we'll use the same equation, but this time with a matrix\n",
    "# Y = Ax + B\n",
    "\n",
    "A = Variable([[1,2], [3,4]])\n",
    "B = Variable([1,2])\n",
    "\n",
    "x = Placeholder()\n",
    "\n",
    "z = matmul(A, x)\n",
    "\n",
    "Y = add(z, B)\n",
    "\n",
    "sess = Session()\n"
   ]
  },
  {
   "cell_type": "code",
   "execution_count": 23,
   "metadata": {},
   "outputs": [],
   "source": [
    "result = sess.run(operation = Y, feed_dict = {x:10})"
   ]
  },
  {
   "cell_type": "code",
   "execution_count": 24,
   "metadata": {},
   "outputs": [
    {
     "data": {
      "text/plain": [
       "array([[11, 22],\n",
       "       [31, 42]])"
      ]
     },
     "execution_count": 24,
     "metadata": {},
     "output_type": "execute_result"
    }
   ],
   "source": [
    "result"
   ]
  },
  {
   "cell_type": "markdown",
   "metadata": {},
   "source": [
    "---\n",
    "\n",
    "## Classification using a simple feedforward neural network"
   ]
  },
  {
   "cell_type": "markdown",
   "metadata": {},
   "source": [
    "We start by making an activation function. If you have used any deep learning library, you might know about activation function. Basically it is just a function, which operates on the data to classify the data into either 0 or 1, i.e. classify things. Here , we are using sigmoid function, which is nothing but the formula down below. You can also use the __reLU__ activation function , which is __max(0,x)__ ."
   ]
  },
  {
   "cell_type": "code",
   "execution_count": 26,
   "metadata": {},
   "outputs": [],
   "source": [
    "class sigmoid(Operation):\n",
    "    \n",
    "    def __init__(self, z):\n",
    "        super().__init__([z])\n",
    "        \n",
    "    def compute(self, z_val):\n",
    "        return 1 / (1 + np.exp(-z_val))"
   ]
  },
  {
   "cell_type": "markdown",
   "metadata": {},
   "source": [
    "let make a fake dataset and plot it."
   ]
  },
  {
   "cell_type": "code",
   "execution_count": 27,
   "metadata": {},
   "outputs": [],
   "source": [
    "from sklearn.datasets import make_blobs"
   ]
  },
  {
   "cell_type": "code",
   "execution_count": 43,
   "metadata": {},
   "outputs": [],
   "source": [
    "data = make_blobs(n_samples = 50, n_features = 2, centers = 2, random_state = 75)"
   ]
  },
  {
   "cell_type": "code",
   "execution_count": 44,
   "metadata": {},
   "outputs": [
    {
     "data": {
      "text/plain": [
       "(array([[  7.3402781 ,   9.36149154],\n",
       "        [  9.13332743,   8.74906102],\n",
       "        [  1.99243535,  -8.85885722],\n",
       "        [  7.38443759,   7.72520389],\n",
       "        [  7.97613887,   8.80878209],\n",
       "        [  7.76974352,   9.50899462],\n",
       "        [  8.3186688 ,  10.1026025 ],\n",
       "        [  8.79588546,   7.28046702],\n",
       "        [  9.81270381,   9.46968531],\n",
       "        [  1.57961049,  -8.17089971],\n",
       "        [  0.06441546,  -9.04982817],\n",
       "        [  7.2075117 ,   7.04533624],\n",
       "        [  9.10704928,   9.0272212 ],\n",
       "        [  1.82921897,  -9.86956281],\n",
       "        [  7.85036314,   7.986659  ],\n",
       "        [  3.04605603,  -7.50486114],\n",
       "        [  1.85582689,  -6.74473432],\n",
       "        [  2.88603902,  -8.85261704],\n",
       "        [ -1.20046211,  -9.55928542],\n",
       "        [  2.00890845,  -9.78471782],\n",
       "        [  7.68945113,   9.01706723],\n",
       "        [  6.42356167,   8.33356412],\n",
       "        [  8.15467319,   7.87489634],\n",
       "        [  1.92000795,  -7.50953708],\n",
       "        [  1.90073973,  -7.24386675],\n",
       "        [  7.7605855 ,   7.05124418],\n",
       "        [  6.90561582,   9.23493842],\n",
       "        [  0.65582768,  -9.5920878 ],\n",
       "        [  1.41804346,  -8.10517372],\n",
       "        [  9.65371965,   9.35409538],\n",
       "        [  1.23053506,  -7.98873571],\n",
       "        [  1.96322881,  -9.50169117],\n",
       "        [  6.11644251,   9.26709393],\n",
       "        [  7.70630321,  10.78862346],\n",
       "        [  0.79580385,  -9.00301023],\n",
       "        [  3.13114921,  -8.6849493 ],\n",
       "        [  1.3970852 ,  -7.25918415],\n",
       "        [  7.27808709,   7.15201886],\n",
       "        [  1.06965742,  -8.1648251 ],\n",
       "        [  6.37298915,   9.77705761],\n",
       "        [  7.24898455,   8.85834104],\n",
       "        [  2.09335725,  -7.66278316],\n",
       "        [  1.05865542,  -8.43841416],\n",
       "        [  6.43807502,   7.85483418],\n",
       "        [  6.94948313,   8.75248232],\n",
       "        [ -0.07326715, -11.69999644],\n",
       "        [  0.61463602,  -9.51908883],\n",
       "        [  1.31977821,  -7.2710667 ],\n",
       "        [  2.72532584,  -7.51956557],\n",
       "        [  8.20949206,  11.90419283]]),\n",
       " array([1, 1, 0, 1, 1, 1, 1, 1, 1, 0, 0, 1, 1, 0, 1, 0, 0, 0, 0, 0, 1, 1,\n",
       "        1, 0, 0, 1, 1, 0, 0, 1, 0, 0, 1, 1, 0, 0, 0, 1, 0, 1, 1, 0, 0, 1,\n",
       "        1, 0, 0, 0, 0, 1]))"
      ]
     },
     "execution_count": 44,
     "metadata": {},
     "output_type": "execute_result"
    }
   ],
   "source": [
    "data"
   ]
  },
  {
   "cell_type": "code",
   "execution_count": 50,
   "metadata": {},
   "outputs": [],
   "source": [
    "import pandas as pd"
   ]
  },
  {
   "cell_type": "code",
   "execution_count": 54,
   "metadata": {},
   "outputs": [
    {
     "data": {
      "text/html": [
       "<div>\n",
       "<style scoped>\n",
       "    .dataframe tbody tr th:only-of-type {\n",
       "        vertical-align: middle;\n",
       "    }\n",
       "\n",
       "    .dataframe tbody tr th {\n",
       "        vertical-align: top;\n",
       "    }\n",
       "\n",
       "    .dataframe thead th {\n",
       "        text-align: right;\n",
       "    }\n",
       "</style>\n",
       "<table border=\"1\" class=\"dataframe\">\n",
       "  <thead>\n",
       "    <tr style=\"text-align: right;\">\n",
       "      <th></th>\n",
       "      <th>Features1</th>\n",
       "      <th>Features2</th>\n",
       "      <th>Lables</th>\n",
       "    </tr>\n",
       "  </thead>\n",
       "  <tbody>\n",
       "    <tr>\n",
       "      <th>0</th>\n",
       "      <td>7.340278</td>\n",
       "      <td>9.361492</td>\n",
       "      <td>1</td>\n",
       "    </tr>\n",
       "    <tr>\n",
       "      <th>1</th>\n",
       "      <td>9.133327</td>\n",
       "      <td>8.749061</td>\n",
       "      <td>1</td>\n",
       "    </tr>\n",
       "    <tr>\n",
       "      <th>2</th>\n",
       "      <td>1.992435</td>\n",
       "      <td>-8.858857</td>\n",
       "      <td>0</td>\n",
       "    </tr>\n",
       "    <tr>\n",
       "      <th>3</th>\n",
       "      <td>7.384438</td>\n",
       "      <td>7.725204</td>\n",
       "      <td>1</td>\n",
       "    </tr>\n",
       "    <tr>\n",
       "      <th>4</th>\n",
       "      <td>7.976139</td>\n",
       "      <td>8.808782</td>\n",
       "      <td>1</td>\n",
       "    </tr>\n",
       "  </tbody>\n",
       "</table>\n",
       "</div>"
      ],
      "text/plain": [
       "   Features1  Features2  Lables\n",
       "0   7.340278   9.361492       1\n",
       "1   9.133327   8.749061       1\n",
       "2   1.992435  -8.858857       0\n",
       "3   7.384438   7.725204       1\n",
       "4   7.976139   8.808782       1"
      ]
     },
     "execution_count": 54,
     "metadata": {},
     "output_type": "execute_result"
    }
   ],
   "source": [
    "df = pd.DataFrame({\n",
    "    'Features1': data[0][:,0],\n",
    "    'Features2': data[0][:,1],\n",
    "    'Lables': data[1]\n",
    "})\n",
    "df.head()"
   ]
  },
  {
   "cell_type": "code",
   "execution_count": 55,
   "metadata": {},
   "outputs": [],
   "source": [
    "features = data[0]\n",
    "lables = data[1]"
   ]
  },
  {
   "cell_type": "code",
   "execution_count": 56,
   "metadata": {},
   "outputs": [
    {
     "data": {
      "text/plain": [
       "<matplotlib.collections.PathCollection at 0x1e7a3791c18>"
      ]
     },
     "execution_count": 56,
     "metadata": {},
     "output_type": "execute_result"
    },
    {
     "data": {
      "image/png": "[encoded data removed]",
      "text/plain": [
       "<Figure size 432x288 with 1 Axes>"
      ]
     },
     "metadata": {},
     "output_type": "display_data"
    }
   ],
   "source": [
    "import matplotlib.pyplot as plt\n",
    "%matplotlib inline\n",
    "plt.scatter(features[:,0], features[:,1], cmap='coolwarm', c=lables)"
   ]
  },
  {
   "cell_type": "markdown",
   "metadata": {},
   "source": [
    "Now lets classify the items. Since we have a fairly simple dataset, we dont need to apply heavy mathematical calculations to it.\n",
    "We can just classify the items based on a simple line. Lets use our standard straight line equation __y = m(x) + c__. \n",
    "\n",
    "We'll use, y = -x + 4 lets say"
   ]
  },
  {
   "cell_type": "code",
   "execution_count": 59,
   "metadata": {},
   "outputs": [
    {
     "data": {
      "text/plain": [
       "[<matplotlib.lines.Line2D at 0x1e7a3864358>]"
      ]
     },
     "execution_count": 59,
     "metadata": {},
     "output_type": "execute_result"
    },
    {
     "data": {
      "image/png": "[encoded data removed]",
      "text/plain": [
       "<Figure size 432x288 with 1 Axes>"
      ]
     },
     "metadata": {},
     "output_type": "display_data"
    }
   ],
   "source": [
    "x = np.linspace(0,11,10)\n",
    "y = -x + 4\n",
    "plt.scatter(features[:,0], features[:,1], cmap='coolwarm', c=lables)\n",
    "plt.plot(x,y)"
   ]
  },
  {
   "cell_type": "markdown",
   "metadata": {},
   "source": [
    "Here , we see that this fits quite well to the graph. If you are wondering , why __-x__, this is because , a negative slope (m), produces this type of downward line, otherwise positive slope , produces upward slanting line. So any value above this line or with a value close to 1 belongs to red class and below the line or with the value close to 0 belongs to blue class."
   ]
  },
  {
   "cell_type": "code",
   "execution_count": 60,
   "metadata": {},
   "outputs": [],
   "source": [
    "g = Graph()\n",
    "g.set_as_default()"
   ]
  },
  {
   "cell_type": "code",
   "execution_count": 70,
   "metadata": {},
   "outputs": [],
   "source": [
    "## Equation is y = -x + c\n",
    "x = Placeholder()\n",
    "c = Variable(-4)\n",
    "m = Variable([1,1])\n",
    "y = add(matmul(m,x), c)"
   ]
  },
  {
   "cell_type": "code",
   "execution_count": 71,
   "metadata": {},
   "outputs": [],
   "source": [
    "a = sigmoid(y)"
   ]
  },
  {
   "cell_type": "code",
   "execution_count": 72,
   "metadata": {},
   "outputs": [],
   "source": [
    "sess = Session()"
   ]
  },
  {
   "cell_type": "code",
   "execution_count": 73,
   "metadata": {},
   "outputs": [
    {
     "data": {
      "text/plain": [
       "0.9999999586006244"
      ]
     },
     "execution_count": 73,
     "metadata": {},
     "output_type": "execute_result"
    }
   ],
   "source": [
    "sess.run(operation = a, feed_dict={x:[10,11]})"
   ]
  },
  {
   "cell_type": "markdown",
   "metadata": {},
   "source": [
    "So this number since it is close to 1 , it belongs to red class.\n",
    "\n",
    "---\n",
    "\n",
    "This brings us to the end of the library. This library for now , is able to do basic classification and regression and is also able to make a simple feedforward neural network. The project is planned to extend further, if it gets a good response."
   ]
  }
 ],
 "metadata": {
  "kernelspec": {
   "display_name": "Python 3",
   "language": "python",
   "name": "python3"
  },
  "language_info": {
   "codemirror_mode": {
    "name": "ipython",
    "version": 3
   },
   "file_extension": ".py",
   "mimetype": "text/x-python",
   "name": "python",
   "nbconvert_exporter": "python",
   "pygments_lexer": "ipython3",
   "version": "3.6.5"
  }
 },
 "nbformat": 4,
 "nbformat_minor": 2
}
